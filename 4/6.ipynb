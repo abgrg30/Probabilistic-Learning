{
 "cells": [
  {
   "cell_type": "code",
   "execution_count": 173,
   "metadata": {
    "collapsed": true
   },
   "outputs": [],
   "source": [
    "#Gradient Ascent using Sigmoid"
   ]
  },
  {
   "cell_type": "code",
   "execution_count": 179,
   "metadata": {
    "collapsed": false
   },
   "outputs": [],
   "source": [
    "path = 'F:\\\\UCSD\\\\AI\\\\4\\\\'\n",
    "\n",
    "f = open(path+'newTrain3.txt', 'r')\n",
    "data1 = [[int(j) for j in i.split()] for i in f.readlines()]\n",
    "f = open(path+'newTrain5.txt', 'r')\n",
    "data2 = [[int(j) for j in i.split()] for i in f.readlines()]"
   ]
  },
  {
   "cell_type": "code",
   "execution_count": 180,
   "metadata": {
    "collapsed": true
   },
   "outputs": [],
   "source": [
    "import math\n",
    "import numpy as np\n",
    "\n",
    "def sigmoid(x):\n",
    "    return 1 / (1 + math.exp(-x))"
   ]
  },
  {
   "cell_type": "code",
   "execution_count": 181,
   "metadata": {
    "collapsed": true
   },
   "outputs": [],
   "source": [
    "training = data1 + data2\n",
    "yt = [1]*len(data1) + [0]*len(data2)"
   ]
  },
  {
   "cell_type": "code",
   "execution_count": 182,
   "metadata": {
    "collapsed": true
   },
   "outputs": [],
   "source": [
    "def errorcalc(training,wt,yt,iterations,s):\n",
    "    trainerror=0\n",
    "    predicttrain = np.zeros(len(training))\n",
    "\n",
    "    for i in xrange(len(training)):\n",
    "        sig = sigmoid(np.dot(wt, training[i]))\n",
    "\n",
    "        if sig > 0.5:\n",
    "            predicttrain[i] = 1\n",
    "        if predicttrain[i] != yt[i]:\n",
    "            trainerror +=1\n",
    "            \n",
    "    print '%s Error : %f' %(s, float(trainerror)/len(training)*100)"
   ]
  },
  {
   "cell_type": "code",
   "execution_count": 183,
   "metadata": {
    "collapsed": false
   },
   "outputs": [
    {
     "name": "stdout",
     "output_type": "stream",
     "text": [
      "Training Likelihood after 500 iterations : -193.597709\n",
      "Training Error : 4.785714\n",
      "Training Likelihood after 1000 iterations : -172.785592\n",
      "Training Error : 4.000000\n",
      "Training Likelihood after 1500 iterations : -164.151486\n",
      "Training Error : 3.785714\n",
      "Training Likelihood after 2000 iterations : -159.242771\n",
      "Training Error : 3.714286\n",
      "Training Likelihood after 2500 iterations : -156.049608\n",
      "Training Error : 3.714286\n",
      "Training Likelihood after 3000 iterations : -153.805112\n",
      "Training Error : 3.785714\n",
      "Training Likelihood after 3500 iterations : -152.143006\n",
      "Training Error : 3.857143\n",
      "Training Likelihood after 4000 iterations : -150.864225\n",
      "Training Error : 3.785714\n",
      "Training Likelihood after 4500 iterations : -149.851020\n",
      "Training Error : 3.785714\n",
      "Training Likelihood after 5000 iterations : -149.029328\n",
      "Training Error : 3.785714\n",
      "Training Likelihood after 5500 iterations : -148.350286\n",
      "Training Error : 3.785714\n",
      "Training Likelihood after 6000 iterations : -147.780378\n",
      "Training Error : 3.785714\n"
     ]
    }
   ],
   "source": [
    "#wt = np.zeros(len(training[0]))\n",
    "wt = np.random.uniform(0, 1, len(training[0]))\n",
    "\n",
    "eta = 0.2/len(training)\n",
    "CONVERGENCE=0.001\n",
    "checkafteriteration = 500 #1000\n",
    "\n",
    "iterations=0\n",
    "prevtrainlikelihood = 0\n",
    "\n",
    "while 1:    \n",
    "    \n",
    "    gradient = np.zeros(len(training[0]))\n",
    "    \n",
    "    for i in xrange(len(training)):\n",
    "        sig = (yt[i] - sigmoid(np.dot(wt, training[i])))\n",
    "        gradient += np.dot(sig, training[i])   \n",
    "        \n",
    "    wt = wt + (eta * gradient)\n",
    "    iterations +=1\n",
    "    \n",
    "    trainlikelihood = 0\n",
    "    for i in xrange(len(training)):\n",
    "        sig = sigmoid(np.dot(wt, training[i]))\n",
    "        trainlikelihood += np.log(yt[i]*sig + (1-yt[i])*(1-sig))\n",
    "        \n",
    "    if ((trainlikelihood - prevtrainlikelihood)) < CONVERGENCE and iterations != 1:   \n",
    "        break   \n",
    "    \n",
    "    prevtrainlikelihood = trainlikelihood\n",
    "    \n",
    "    if(iterations%checkafteriteration == 0):        \n",
    "        print '%s Likelihood after %d iterations : %f' %('Training', iterations, trainlikelihood)\n",
    "        errorcalc(training,wt,yt,iterations,'Training')"
   ]
  },
  {
   "cell_type": "code",
   "execution_count": 184,
   "metadata": {
    "collapsed": false
   },
   "outputs": [
    {
     "name": "stdout",
     "output_type": "stream",
     "text": [
      "Final Result\n",
      "\n",
      "Training Likelihood after 6146 iterations : -147.630943\n",
      "Training3 Error : 4.142857\n",
      "Training5 Error : 3.428571\n",
      "Training Error : 3.785714\n"
     ]
    }
   ],
   "source": [
    "print 'Final Result'\n",
    "print ''\n",
    "print '%s Likelihood after %d iterations : %f' %('Training', iterations, trainlikelihood)\n",
    "\n",
    "errorcalc(data1,wt,[1]*len(data1),iterations,'Training3')\n",
    "errorcalc(data2,wt,[0]*len(data2),iterations,'Training5')\n",
    "errorcalc(training,wt,yt,iterations,'Training')"
   ]
  },
  {
   "cell_type": "code",
   "execution_count": 185,
   "metadata": {
    "collapsed": false
   },
   "outputs": [
    {
     "name": "stdout",
     "output_type": "stream",
     "text": [
      "Test3 Error : 5.250000\n",
      "Test5 Error : 7.750000\n",
      "Test Error : 6.500000\n"
     ]
    }
   ],
   "source": [
    "f = open(path+'newTest3.txt', 'r')\n",
    "data3 = [[int(j) for j in i.split()] for i in f.readlines()]\n",
    "\n",
    "testlabels = [1]*len(data3)\n",
    "errorcalc(data3,wt,testlabels,iterations,'Test3')\n",
    "\n",
    "f = open(path+'newTest5.txt', 'r')\n",
    "data4 = [[int(j) for j in i.split()] for i in f.readlines()]\n",
    "\n",
    "testlabels = [0]*len(data4)\n",
    "errorcalc(data4,wt,testlabels,iterations,'Test5')\n",
    "\n",
    "test = data3 + data4\n",
    "testlabels = [1]*len(data3) + [0]*len(data4)\n",
    "\n",
    "errorcalc(test,wt,testlabels,iterations,'Test')"
   ]
  },
  {
   "cell_type": "code",
   "execution_count": 186,
   "metadata": {
    "collapsed": false
   },
   "outputs": [
    {
     "name": "stdout",
     "output_type": "stream",
     "text": [
      "[[ 1.26777632  1.24115161  1.51384324  1.36480929  1.59033268  0.02967528\n",
      "  -1.05518256 -2.07306141]\n",
      " [-0.6950421   0.49949829 -0.92462221  0.22623811  0.16113133 -0.674982\n",
      "   1.36300009  0.38496081]\n",
      " [-2.12838172 -1.34686632 -0.76951379 -0.18165712 -0.64421513  2.00420486\n",
      "   3.28876174  2.89752531]\n",
      " [-1.21085948 -1.21530092 -1.05283128  0.33311016  0.83276323  1.44539367\n",
      "  -0.54389476 -0.07232401]\n",
      " [-0.79425141 -0.45151916  0.534306    0.29866558  0.37828281 -0.05558581\n",
      "   0.11748798 -0.1898543 ]\n",
      " [-1.4734212   0.7404168   0.02595715 -1.09502259 -0.19174554  0.61128355\n",
      "  -0.47807782  1.33123838]\n",
      " [-0.62595166 -0.01267685 -0.31543457 -0.59666999 -0.10941484  0.18464392\n",
      "   0.20527575  1.23854581]\n",
      " [-0.54660998 -0.46332322  0.02860869 -1.68700822 -0.52964788 -0.97367981\n",
      "   0.14730292 -0.46965572]]\n"
     ]
    }
   ],
   "source": [
    "arr = np.reshape(wt, (8,8))\n",
    "print arr"
   ]
  }
 ],
 "metadata": {
  "kernelspec": {
   "display_name": "Python 2",
   "language": "python",
   "name": "python2"
  },
  "language_info": {
   "codemirror_mode": {
    "name": "ipython",
    "version": 2
   },
   "file_extension": ".py",
   "mimetype": "text/x-python",
   "name": "python",
   "nbconvert_exporter": "python",
   "pygments_lexer": "ipython2",
   "version": "2.7.11"
  }
 },
 "nbformat": 4,
 "nbformat_minor": 0
}
