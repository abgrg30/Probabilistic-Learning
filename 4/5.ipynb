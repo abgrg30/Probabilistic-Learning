{
 "cells": [
  {
   "cell_type": "code",
   "execution_count": 51,
   "metadata": {
    "collapsed": false
   },
   "outputs": [],
   "source": [
    "path = 'F:\\\\UCSD\\\\AI\\\\4\\\\'\n",
    "\n",
    "f = open(path+'nasdaq00.txt', 'r')\n",
    "data1 = [float(i.split()[0]) for i in f.readlines()]\n",
    "f = open(path+'nasdaq01.txt', 'r')\n",
    "data2 = [float(i.split()[0]) for i in f.readlines()]"
   ]
  },
  {
   "cell_type": "code",
   "execution_count": 52,
   "metadata": {
    "collapsed": false
   },
   "outputs": [],
   "source": [
    "import numpy as np\n",
    "prev = 4\n",
    "xt = np.zeros(prev)\n",
    "A = np.zeros((prev,prev))\n",
    "B = np.zeros(prev)\n",
    "\n",
    "for i in xrange(prev, len(data1)):\n",
    "    xt = data1[i-prev:i]\n",
    "    at = np.outer(xt,xt)\n",
    "    A += at\n",
    "    bt = np.dot(data1[i], xt)\n",
    "    B += bt\n",
    "    \n",
    "weights = np.dot(np.linalg.inv(A), np.transpose(B))\n",
    "    "
   ]
  },
  {
   "cell_type": "code",
   "execution_count": 53,
   "metadata": {
    "collapsed": false
   },
   "outputs": [
    {
     "data": {
      "text/plain": [
       "array([ 0.04678134, -0.01364498,  0.01974237,  0.94520006])"
      ]
     },
     "execution_count": 53,
     "metadata": {},
     "output_type": "execute_result"
    }
   ],
   "source": [
    "weights"
   ]
  },
  {
   "cell_type": "code",
   "execution_count": 35,
   "metadata": {
    "collapsed": false
   },
   "outputs": [
    {
     "data": {
      "text/plain": [
       "13918.632920841181"
      ]
     },
     "execution_count": 35,
     "metadata": {},
     "output_type": "execute_result"
    }
   ],
   "source": [
    "yt = np.zeros(len(data1) - prev)\n",
    "xxt = np.zeros(prev)\n",
    "for i in xrange(prev, len(data1)):\n",
    "    xxt = data1[i-prev:i]\n",
    "    yt[i-prev] = np.dot(xxt, weights)\n",
    "\n",
    "trainerror = (yt - data1[prev:len(data1)])**2\n",
    "np.mean(trainerror)"
   ]
  },
  {
   "cell_type": "code",
   "execution_count": 46,
   "metadata": {
    "collapsed": false
   },
   "outputs": [
    {
     "data": {
      "text/plain": [
       "3620.7715885709367"
      ]
     },
     "execution_count": 46,
     "metadata": {},
     "output_type": "execute_result"
    }
   ],
   "source": [
    "yyt = np.zeros(len(data2))\n",
    "xxt = data1[-1*prev:]\n",
    "\n",
    "for i in xrange(prev):\n",
    "    xxxt = xxt[i:prev] + data2[0:i]\n",
    "    yyt[i] = np.dot(xxxt,weights)\n",
    "\n",
    "for i in xrange(prev, len(data2)):\n",
    "    xxxt = data2[i-prev:i]\n",
    "    yyt[i] = np.dot(xxxt, weights)\n",
    "\n",
    "testerror = (yyt - data2)**2\n",
    "np.mean(testerror)"
   ]
  },
  {
   "cell_type": "code",
   "execution_count": null,
   "metadata": {
    "collapsed": true
   },
   "outputs": [],
   "source": [
    "# I would recommend this linear model for stock market prediction. predicted values are close to the given labels."
   ]
  }
 ],
 "metadata": {
  "kernelspec": {
   "display_name": "Python 2",
   "language": "python",
   "name": "python2"
  },
  "language_info": {
   "codemirror_mode": {
    "name": "ipython",
    "version": 2
   },
   "file_extension": ".py",
   "mimetype": "text/x-python",
   "name": "python",
   "nbconvert_exporter": "python",
   "pygments_lexer": "ipython2",
   "version": "2.7.11"
  }
 },
 "nbformat": 4,
 "nbformat_minor": 0
}
