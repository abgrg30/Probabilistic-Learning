{
 "cells": [
  {
   "cell_type": "code",
   "execution_count": 1,
   "metadata": {
    "collapsed": false
   },
   "outputs": [],
   "source": [
    "path = 'F:/UCSD/AI/1/'\n",
    "f = open(path+'hw1_word_counts_05.txt', 'r')\n",
    "l = f.readlines()\n",
    "\n",
    "vocab = []\n",
    "count = []\n",
    "\n",
    "for i in xrange(len(l)):\n",
    "    templ = l[i].split()\n",
    "    vocab.append(templ[0])\n",
    "    count.append(float(templ[1]))\n",
    "    \n",
    "s = sum(count)\n",
    "pw = [i/s for i in count]"
   ]
  },
  {
   "cell_type": "code",
   "execution_count": 2,
   "metadata": {
    "collapsed": false
   },
   "outputs": [
    {
     "name": "stdout",
     "output_type": "stream",
     "text": [
      "THREE 0.0356271486865\n",
      "SEVEN 0.0233327249289\n",
      "EIGHT 0.0216264960977\n",
      "WOULD 0.0208581843079\n",
      "ABOUT 0.0205415443498\n",
      "THEIR 0.0189741308938\n",
      "WHICH 0.0185451600728\n",
      "AFTER 0.0143645210863\n",
      "FIRST 0.0143456035775\n",
      "FIFTY 0.0139427258721\n",
      "\n",
      "\n",
      "BOSAK 7.82793468945e-07\n",
      "CAIXA 7.82793468945e-07\n",
      "MAPCO 7.82793468945e-07\n",
      "OTTIS 7.82793468945e-07\n",
      "TROUP 7.82793468945e-07\n",
      "CCAIR 9.13259047103e-07\n",
      "CLEFT 9.13259047103e-07\n",
      "FABRI 9.13259047103e-07\n",
      "FOAMY 9.13259047103e-07\n",
      "NIAID 9.13259047103e-07\n"
     ]
    }
   ],
   "source": [
    "import numpy as np\n",
    "dic = {}\n",
    "\n",
    "n = 10\n",
    "\n",
    "for i in xrange(n):\n",
    "    j = np.argmax(pw)\n",
    "    print vocab[j],pw[j]\n",
    "    dic[j] = pw[j]\n",
    "    pw[j] = 0\n",
    "    \n",
    "for key in dic:\n",
    "    #print dic[key]\n",
    "    pw[key] = dic[key]\n",
    "\n",
    "dic = {}\n",
    "print '\\n'\n",
    "\n",
    "for i in xrange(n):\n",
    "    j = np.argmin(pw)\n",
    "    print vocab[j],pw[j]\n",
    "    dic[j] = pw[j]\n",
    "    pw[j] = 1\n",
    "    \n",
    "for key in dic:\n",
    "    #print dic[key]\n",
    "    pw[key] = dic[key]\n",
    "\n",
    "dic = {}"
   ]
  },
  {
   "cell_type": "code",
   "execution_count": 3,
   "metadata": {
    "collapsed": false
   },
   "outputs": [],
   "source": [
    "def check(ch, idx, word):\n",
    "    if ch == word[idx] and ch not in word[:idx] and ch not in word[idx+1:]:\n",
    "        return True\n",
    "    \n",
    "    return False\n",
    "\n",
    "def func(present, absent): #present = list of tuples Eg [('U',1)], absent = list Eg ['A','E','I','O','S']\n",
    "    l = []\n",
    "    \n",
    "    for i in xrange(len(vocab)):\n",
    "        flag = 1\n",
    "        for j in absent:\n",
    "            if j in vocab[i]:\n",
    "                flag = 0\n",
    "                l.append(0)\n",
    "                break\n",
    "        \n",
    "        if flag == 1:\n",
    "            for j in present:\n",
    "                if check(j[0], j[1], vocab[i]) == True:\n",
    "                    continue\n",
    "                else:\n",
    "                    l.append(0)\n",
    "                    flag = 0\n",
    "                    break\n",
    "            \n",
    "            if flag == 1:\n",
    "                l.append(1)\n",
    "                    \n",
    "    return l           \n",
    "\n",
    "def func2(ch, present, absent):\n",
    "    l = []\n",
    "    temp = []\n",
    "    \n",
    "    for i in present:\n",
    "        temp.append(i[1])\n",
    "    \n",
    "    for i in xrange(len(vocab)):        \n",
    "        flag = 1\n",
    "        \n",
    "        for j in absent:\n",
    "            if j in vocab[i]:\n",
    "                l.append(0)\n",
    "                flag = 0\n",
    "                break\n",
    "                \n",
    "        if flag == 1:            \n",
    "                \n",
    "            for j in present:\n",
    "                if check(j[0], j[1], vocab[i]) == True:\n",
    "                    continue\n",
    "                else:\n",
    "                    l.append(0)\n",
    "                    flag = 0\n",
    "                    break\n",
    "                    \n",
    "            if flag == 1:\n",
    "                if ch in vocab[i] and i not in temp:\n",
    "                    l.append(1)\n",
    "                else:\n",
    "                    l.append(0)        \n",
    "\n",
    "    return l\n",
    "\n",
    "def calc(li, present, absent):\n",
    "    pew = func(present, absent)\n",
    "    plw = func2(li, present, absent)\n",
    "\n",
    "    tpwe = sum([pew[i]*pw[i] for i in xrange(len(vocab))])\n",
    "\n",
    "    pwe = [pew[i]*pw[i]/tpwe for i in xrange(len(vocab))]\n",
    "\n",
    "    ple = sum([plw[i]*pwe[i] for i in xrange(len(vocab))])\n",
    "    \n",
    "    return ple"
   ]
  },
  {
   "cell_type": "code",
   "execution_count": 4,
   "metadata": {
    "collapsed": false
   },
   "outputs": [],
   "source": [
    "import string\n",
    "\n",
    "def func3(present, absent):\n",
    "    maxi = 0\n",
    "    new = 0\n",
    "    temp = []\n",
    "\n",
    "    for i in present:\n",
    "        temp.append(i[0])\n",
    "\n",
    "    for i in list(string.ascii_uppercase):    \n",
    "        if i not in temp:\n",
    "            new = calc(i, present, absent)\n",
    "\n",
    "            if new > maxi:\n",
    "                maxi = new\n",
    "                li = i\n",
    "    return li"
   ]
  },
  {
   "cell_type": "code",
   "execution_count": 5,
   "metadata": {
    "collapsed": false
   },
   "outputs": [
    {
     "name": "stdout",
     "output_type": "stream",
     "text": [
      "Y\n",
      "0.626965110163\n"
     ]
    }
   ],
   "source": [
    "present = [('U',1)]\n",
    "absent = ['A','E','I','O','S']\n",
    "li = 'Y'\n",
    "print li\n",
    "print calc(li, present, absent)"
   ]
  },
  {
   "cell_type": "code",
   "execution_count": 6,
   "metadata": {
    "collapsed": false
   },
   "outputs": [
    {
     "name": "stdout",
     "output_type": "stream",
     "text": [
      "E\n",
      "0.752074688797\n"
     ]
    }
   ],
   "source": [
    "present = [('D',0),('I',3)]\n",
    "absent = ['A']\n",
    "li = 'E'\n",
    "print li\n",
    "print calc(li, present, absent)"
   ]
  },
  {
   "cell_type": "code",
   "execution_count": 7,
   "metadata": {
    "collapsed": false
   },
   "outputs": [
    {
     "name": "stdout",
     "output_type": "stream",
     "text": [
      "A\n",
      "0.82068452381\n"
     ]
    }
   ],
   "source": [
    "present = [('D',0),('I',3)]\n",
    "absent = []\n",
    "li = 'A'\n",
    "print li\n",
    "print calc(li, present, absent)"
   ]
  },
  {
   "cell_type": "code",
   "execution_count": 8,
   "metadata": {
    "collapsed": false
   },
   "outputs": [
    {
     "name": "stdout",
     "output_type": "stream",
     "text": [
      "I\n",
      "0.636555414101\n"
     ]
    }
   ],
   "source": [
    "present = []\n",
    "absent = ['E','O']\n",
    "li = 'I'\n",
    "print li\n",
    "print calc(li, present, absent)"
   ]
  },
  {
   "cell_type": "code",
   "execution_count": 9,
   "metadata": {
    "collapsed": false
   },
   "outputs": [
    {
     "name": "stdout",
     "output_type": "stream",
     "text": [
      "R\n",
      "0.745386625983\n"
     ]
    }
   ],
   "source": [
    "present = [('O',2)]\n",
    "absent = ['A','E','M','N','T']\n",
    "li = func3(present,absent)\n",
    "print li\n",
    "print calc(li, present, absent)"
   ]
  },
  {
   "cell_type": "code",
   "execution_count": 10,
   "metadata": {
    "collapsed": false
   },
   "outputs": [
    {
     "name": "stdout",
     "output_type": "stream",
     "text": [
      "E\n",
      "0.712700841622\n"
     ]
    }
   ],
   "source": [
    "present = [('A',0), ('S',4)]\n",
    "absent = ['I']\n",
    "li = func3(present,absent)\n",
    "print li\n",
    "print calc(li, present, absent)"
   ]
  },
  {
   "cell_type": "code",
   "execution_count": 11,
   "metadata": {
    "collapsed": false
   },
   "outputs": [
    {
     "name": "stdout",
     "output_type": "stream",
     "text": [
      "E\n",
      "0.771537162162\n"
     ]
    }
   ],
   "source": [
    "present = [('A',0), ('S',4)]\n",
    "absent = []\n",
    "li = func3(present,absent)\n",
    "print li\n",
    "print calc(li, present, absent)"
   ]
  },
  {
   "cell_type": "code",
   "execution_count": 48,
   "metadata": {
    "collapsed": false
   },
   "outputs": [
    {
     "name": "stdout",
     "output_type": "stream",
     "text": [
      "O\n",
      "0.534031565156\n"
     ]
    }
   ],
   "source": [
    "present = []\n",
    "absent = ['E','A']\n",
    "li = func3(present,absent)\n",
    "print li\n",
    "print calc(li, present, absent)"
   ]
  },
  {
   "cell_type": "code",
   "execution_count": 49,
   "metadata": {
    "collapsed": false
   },
   "outputs": [
    {
     "name": "stdout",
     "output_type": "stream",
     "text": [
      "E\n",
      "0.539417238965\n"
     ]
    }
   ],
   "source": [
    "present = []\n",
    "absent = []\n",
    "li = func3(present,absent)\n",
    "print li\n",
    "print calc(li, present, absent)"
   ]
  }
 ],
 "metadata": {
  "kernelspec": {
   "display_name": "Python 2",
   "language": "python",
   "name": "python2"
  },
  "language_info": {
   "codemirror_mode": {
    "name": "ipython",
    "version": 2
   },
   "file_extension": ".py",
   "mimetype": "text/x-python",
   "name": "python",
   "nbconvert_exporter": "python",
   "pygments_lexer": "ipython2",
   "version": "2.7.11"
  }
 },
 "nbformat": 4,
 "nbformat_minor": 0
}
