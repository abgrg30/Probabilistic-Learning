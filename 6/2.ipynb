{
 "cells": [
  {
   "cell_type": "code",
   "execution_count": 37,
   "metadata": {
    "collapsed": false
   },
   "outputs": [],
   "source": [
    "import numpy as np\n",
    "path = 'F:\\\\UCSD\\\\AI\\\\6\\\\'\n",
    "f = open(path+'emissionMatrix.txt', 'r')\n",
    "b = np.array([[float(j) for j in i.split()] for i in f.readlines()])\n",
    "logb = np.log(b)\n",
    "f.close()"
   ]
  },
  {
   "cell_type": "code",
   "execution_count": 38,
   "metadata": {
    "collapsed": false
   },
   "outputs": [],
   "source": [
    "f = open(path+'transitionMatrix.txt', 'r')\n",
    "a = np.array([[float(j) for j in i.split()] for i in f.readlines()])\n",
    "loga = np.log(a)\n",
    "f.close()"
   ]
  },
  {
   "cell_type": "code",
   "execution_count": 39,
   "metadata": {
    "collapsed": false
   },
   "outputs": [],
   "source": [
    "f = open(path+'observations.txt', 'r')\n",
    "i = f.readline()\n",
    "o = np.array([int(j) for j in i.split()])\n",
    "f.close()"
   ]
  },
  {
   "cell_type": "code",
   "execution_count": 40,
   "metadata": {
    "collapsed": false
   },
   "outputs": [],
   "source": [
    "f = open(path+'initialStateDistribution.txt', 'r')\n",
    "pi = np.array([float(i.split()[0]) for i in f.readlines()])\n",
    "logpi = np.log(pi)\n",
    "f.close()"
   ]
  },
  {
   "cell_type": "code",
   "execution_count": 55,
   "metadata": {
    "collapsed": false
   },
   "outputs": [],
   "source": [
    "n = pi.shape[0]\n",
    "T = o.shape[0]\n",
    "l = np.zeros((n,T))\n",
    "phi = np.zeros((n,T))\n",
    "\n",
    "l[:,0] = logpi + logb[:,o[0]]\n",
    "    \n",
    "for t in xrange(1,T):\n",
    "    for j in xrange(n):\n",
    "        l[j][t] = np.max(l[:,t-1] + loga[:,j])\n",
    "        phi[j][t] = np.argmax(l[:,t-1] + loga[:,j])\n",
    "    l[:,t] += logb[:,o[t]]"
   ]
  },
  {
   "cell_type": "code",
   "execution_count": 67,
   "metadata": {
    "collapsed": false
   },
   "outputs": [],
   "source": [
    "s = np.zeros(T)\n",
    "s[T-1] = np.argmax(l[:,T-1])\n",
    "\n",
    "for t in xrange(T-2, -1, -1):\n",
    "    s[t] = phi[int(s[t+1])][t+1]\n",
    "    \n",
    "s = s+1"
   ]
  },
  {
   "cell_type": "code",
   "execution_count": 78,
   "metadata": {
    "collapsed": false
   },
   "outputs": [],
   "source": [
    "result = []\n",
    "decoded = []\n",
    "prev = -1\n",
    "import string\n",
    "alphabets = string.lowercase\n",
    "\n",
    "for t in xrange(T):\n",
    "    if s[t] == prev:\n",
    "        continue\n",
    "    else:\n",
    "        prev = int(s[t])\n",
    "        result.append(prev)\n",
    "        decoded.append(alphabets[prev-1])"
   ]
  },
  {
   "cell_type": "code",
   "execution_count": 80,
   "metadata": {
    "collapsed": false
   },
   "outputs": [
    {
     "name": "stdout",
     "output_type": "stream",
     "text": [
      "[20, 5, 1, 13, 9, 18, 15, 14, 13, 1, 14, 15, 18, 20, 5, 1, 13, 3, 1, 16]\n",
      "teamironmanorteamcap\n"
     ]
    }
   ],
   "source": [
    "print result\n",
    "print ''.join(decoded)"
   ]
  },
  {
   "cell_type": "code",
   "execution_count": 81,
   "metadata": {
    "collapsed": false
   },
   "outputs": [
    {
     "data": {
      "image/png": "[encoded data removed]",
      "text/plain": [
       "<matplotlib.figure.Figure at 0xbb41390>"
      ]
     },
     "metadata": {},
     "output_type": "display_data"
    }
   ],
   "source": [
    "import matplotlib.pyplot as plt\n",
    "%matplotlib inline\n",
    "plt.plot(range(len(s)), s, 'r')\n",
    "plt.axis([0, len(s), 0, 27])\n",
    "plt.show()"
   ]
  }
 ],
 "metadata": {
  "kernelspec": {
   "display_name": "Python 2",
   "language": "python",
   "name": "python2"
  },
  "language_info": {
   "codemirror_mode": {
    "name": "ipython",
    "version": 2
   },
   "file_extension": ".py",
   "mimetype": "text/x-python",
   "name": "python",
   "nbconvert_exporter": "python",
   "pygments_lexer": "ipython2",
   "version": "2.7.11"
  }
 },
 "nbformat": 4,
 "nbformat_minor": 0
}
