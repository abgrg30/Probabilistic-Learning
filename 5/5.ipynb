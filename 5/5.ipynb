{
 "cells": [
  {
   "cell_type": "code",
   "execution_count": 1,
   "metadata": {
    "collapsed": false
   },
   "outputs": [],
   "source": [
    "import numpy as np\n",
    "path = 'F:\\\\UCSD\\\\AI\\\\5\\\\'\n",
    "\n",
    "f = open(path+'spectY.txt','r')\n",
    "Y = np.array([int(i.split()[0]) for i in f.readlines()])\n",
    "f.close()\n",
    "\n",
    "f = open(path+'spectX.txt','r')\n",
    "X = np.array([[int(j) for j in i.split()] for i in f.readlines()])\n",
    "f.close()"
   ]
  },
  {
   "cell_type": "code",
   "execution_count": 3,
   "metadata": {
    "collapsed": false
   },
   "outputs": [
    {
     "name": "stdout",
     "output_type": "stream",
     "text": [
      "iterations : 0\n",
      "errors : 95\n",
      "L : -0.654886493\n",
      "iterations : 1\n",
      "errors : 49\n",
      "L : -0.450017886135\n",
      "iterations : 2\n",
      "errors : 42\n",
      "L : -0.394042416135\n",
      "iterations : 4\n",
      "errors : 43\n",
      "L : -0.36163490142\n",
      "iterations : 8\n",
      "errors : 44\n",
      "L : -0.346615490212\n",
      "iterations : 16\n",
      "errors : 40\n",
      "L : -0.334293647607\n",
      "iterations : 32\n",
      "errors : 37\n",
      "L : -0.322517954248\n",
      "iterations : 64\n",
      "errors : 37\n",
      "L : -0.314802423434\n",
      "iterations : 128\n",
      "errors : 36\n",
      "L : -0.311156098209\n",
      "iterations : 256\n",
      "errors : 36\n",
      "L : -0.310162742613\n"
     ]
    }
   ],
   "source": [
    "n = len(X[0])\n",
    "T = len(X)\n",
    "\n",
    "p = np.array([2.0/n]*n)\n",
    "Ti = X.sum(axis=0)\n",
    "check = 1\n",
    "for j in xrange(257):\n",
    "    \n",
    "    L = 0\n",
    "    M=0\n",
    "    for t in xrange(T):\n",
    " \n",
    "        temp = np.power((np.array([1]*n) - p),X[t])\n",
    "        prediction = (1-temp.prod())\n",
    "\n",
    "        if (Y[t]==0 and prediction >= 0.5) or (Y[t]==1 and prediction <= 0.5):\n",
    "            M += 1\n",
    "\n",
    "        if Y[t] == 0:\n",
    "            L+=np.log(1-prediction)\n",
    "        else:\n",
    "            L+=np.log(prediction)\n",
    "\n",
    "    if j==0 or j%check == 0:\n",
    "        print 'iterations :', j\n",
    "        print 'errors :', M\n",
    "        print 'L :', (1.0/T)*L\n",
    "        if j!=0:\n",
    "            check *= 2\n",
    "    \n",
    "    newp = np.zeros(n)\n",
    "    \n",
    "    for t in xrange(T):\n",
    "\n",
    "        temp = np.power((np.array([1]*n) - p),X[t])\n",
    "        denominator = (1-temp.prod())\n",
    "\n",
    "        for i in xrange(n):\n",
    "\n",
    "            numerator = Y[t]*X[t][i]*p[i]\n",
    "            newp[i] += (numerator/denominator)\n",
    "\n",
    "    p = newp/Ti"
   ]
  },
  {
   "cell_type": "code",
   "execution_count": null,
   "metadata": {
    "collapsed": true
   },
   "outputs": [],
   "source": []
  }
 ],
 "metadata": {
  "kernelspec": {
   "display_name": "Python 2",
   "language": "python",
   "name": "python2"
  },
  "language_info": {
   "codemirror_mode": {
    "name": "ipython",
    "version": 2
   },
   "file_extension": ".py",
   "mimetype": "text/x-python",
   "name": "python",
   "nbconvert_exporter": "python",
   "pygments_lexer": "ipython2",
   "version": "2.7.11"
  }
 },
 "nbformat": 4,
 "nbformat_minor": 0
}
